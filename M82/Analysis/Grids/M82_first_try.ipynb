{
 "cells": [
  {
   "cell_type": "markdown",
   "metadata": {},
   "source": [
    "# First MgII simple wind for M82"
   ]
  },
  {
   "cell_type": "code",
   "execution_count": 1,
   "metadata": {
    "collapsed": true
   },
   "outputs": [],
   "source": [
    "from astropy.units import Unit"
   ]
  },
  {
   "cell_type": "markdown",
   "metadata": {},
   "source": [
    "## Description\n",
    "* Constant density\n",
    "  * Chosen to give $\\tau \\approx 1$ through 1kpc\n",
    "  * Assuming 1/10 down from dust and 1/2 from metallicity (-5.47 factor)\n",
    "* Constant velocity"
   ]
  },
  {
   "cell_type": "code",
   "execution_count": 34,
   "metadata": {
    "collapsed": false
   },
   "outputs": [],
   "source": [
    "# constants\n",
    "cst = 1./((const.m_e.cgs*const.c.cgs / (np.pi * \n",
    "    (const.e.esu**2).cgs)).to(u.AA*u.s/(u.km*u.cm**2)))"
   ]
  },
  {
   "cell_type": "code",
   "execution_count": 11,
   "metadata": {
    "collapsed": true
   },
   "outputs": [],
   "source": [
    "# Atomic data\n",
    "fval = 0.6123\n",
    "wave = 2796.352*u.AA"
   ]
  },
  {
   "cell_type": "code",
   "execution_count": 39,
   "metadata": {
    "collapsed": false
   },
   "outputs": [
    {
     "name": "stdout",
     "output_type": "stream",
     "text": [
      "tau=0.893538 for N_MgII=5.22782e+12 1 / cm2\n"
     ]
    }
   ],
   "source": [
    "n0  = 0.0005 / (u.cm)**3\n",
    "b = 15.*u.km/u.s\n",
    "N_MgII = (n0 * (1.*u.kpc).to('cm') * 10**(-5.47)).to('cm**-2')\n",
    "tau =  (N_MgII * cst * wave * fval  / (np.sqrt(np.pi) * b)).decompose()\n",
    "print('tau={:g} for N_MgII={:g}'.format(tau,N_MgII))"
   ]
  },
  {
   "cell_type": "markdown",
   "metadata": {},
   "source": [
    "## Generate the grid"
   ]
  },
  {
   "cell_type": "code",
   "execution_count": 2,
   "metadata": {
    "collapsed": false
   },
   "outputs": [],
   "source": [
    "import grid_m82 as gm82"
   ]
  },
  {
   "cell_type": "code",
   "execution_count": 29,
   "metadata": {
    "collapsed": false
   },
   "outputs": [
    {
     "name": "stdout",
     "output_type": "stream",
     "text": [
      "Done making cells\n",
      "Done with radius\n",
      "Done with density\n",
      "Done with velocity\n",
      "Wrote: M82_first.fits\n"
     ]
    }
   ],
   "source": [
    "# main call\n",
    "reload(gm82)\n",
    "param=gm82.init_param(ngrid=200)\n",
    "param['flag_density'] = 0\n",
    "param['flag_wind'] = 0\n",
    "param['title'] = 'M82_first'\n",
    "out_arrays = gm82.main(param,out_root='M82_first')"
   ]
  },
  {
   "cell_type": "code",
   "execution_count": 19,
   "metadata": {
    "collapsed": false
   },
   "outputs": [],
   "source": [
    "# Chk plot\n",
    "if tst:\n",
    "    rho_grid = out_arrays[0]\n",
    "    plt.clf()\n",
    "    plt.imshow(rho_grid[:,150,:],origin='lower')\n",
    "    plt.colorbar()\n",
    "    plt.show()"
   ]
  },
  {
   "cell_type": "markdown",
   "metadata": {},
   "source": [
    "## Run\n",
    "\n",
    "    cp m82_first_param.lua param.lua\n",
    "    mpirun -n"
   ]
  },
  {
   "cell_type": "code",
   "execution_count": null,
   "metadata": {
    "collapsed": true
   },
   "outputs": [],
   "source": []
  }
 ],
 "metadata": {
  "kernelspec": {
   "display_name": "Python 2",
   "language": "python",
   "name": "python2"
  },
  "language_info": {
   "codemirror_mode": {
    "name": "ipython",
    "version": 2
   },
   "file_extension": ".py",
   "mimetype": "text/x-python",
   "name": "python",
   "nbconvert_exporter": "python",
   "pygments_lexer": "ipython2",
   "version": "2.7.10"
  }
 },
 "nbformat": 4,
 "nbformat_minor": 0
}
