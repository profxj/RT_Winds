{
 "cells": [
  {
   "cell_type": "markdown",
   "metadata": {},
   "source": [
    "# Test Grid Generation"
   ]
  },
  {
   "cell_type": "code",
   "execution_count": 4,
   "metadata": {
    "collapsed": false
   },
   "outputs": [],
   "source": [
    "import grid_biconical as gridb"
   ]
  },
  {
   "cell_type": "code",
   "execution_count": 97,
   "metadata": {
    "collapsed": false
   },
   "outputs": [],
   "source": [
    "# Load param\n",
    "param = dict(ngrid=50, rw_outer=20.)\n",
    "param['rw_inner'] = 1.            #; Inner boundary of the wind (kpc)\n",
    "param['box_size'] = param['rw_outer'] * 2\n",
    "param['dl'] = param['box_size'] / param['ngrid']\n",
    "param['n0'] =  0.1           # Density at inner radius (Hydrogen; cm^-3)\n",
    "param['theta_min'] =  45.    # Opening angle of the cone (deg)\n",
    "param['v_wind'] = 450.       # Parameterization of the wind speed (radial; km/s)\n",
    "param['rg_outer'] = 0.2      # Outer boundary of galaxy (kpc)\n",
    "\n",
    "#param['density_pow'] = -2."
   ]
  },
  {
   "cell_type": "code",
   "execution_count": 9,
   "metadata": {
    "collapsed": false
   },
   "outputs": [],
   "source": [
    "# Load centers\n",
    "reload(gridb)\n",
    "cell_center, corners = gridb.init_arrays(param['ngrid'])"
   ]
  },
  {
   "cell_type": "code",
   "execution_count": 59,
   "metadata": {
    "collapsed": false
   },
   "outputs": [],
   "source": [
    "# Radii\n",
    "reload(gridb)\n",
    "r_center, r_corners = gridb.set_radii(param, cell_center, corners)"
   ]
  },
  {
   "cell_type": "code",
   "execution_count": 73,
   "metadata": {
    "collapsed": false
   },
   "outputs": [],
   "source": [
    "# Density\n",
    "reload(gridb)\n",
    "rho_grid = gridb.set_density(param, flag=1)"
   ]
  },
  {
   "cell_type": "code",
   "execution_count": 74,
   "metadata": {
    "collapsed": false
   },
   "outputs": [],
   "source": [
    "# Check density\n",
    "plt.clf()\n",
    "#plt.imshow(theta[:,25,:],origin='lower')\n",
    "plt.imshow(rho_grid[:,25,:],origin='lower')\n",
    "plt.colorbar()\n",
    "plt.show()"
   ]
  },
  {
   "cell_type": "code",
   "execution_count": 85,
   "metadata": {
    "collapsed": true
   },
   "outputs": [],
   "source": [
    "# Velocity\n",
    "reload(gridb)\n",
    "vxyz_grid = gridb.set_velocity(param, flg_wind=0, cell_center=cell_center, r_center=r_center)"
   ]
  },
  {
   "cell_type": "code",
   "execution_count": null,
   "metadata": {
    "collapsed": true
   },
   "outputs": [],
   "source": [
    "# Check velocity\n",
    "plt.clf()\n",
    "plt.imshow(vxyz_grid[0][:,25,:],origin='lower')\n",
    "plt.colorbar()\n",
    "plt.show()"
   ]
  },
  {
   "cell_type": "code",
   "execution_count": 95,
   "metadata": {
    "collapsed": true
   },
   "outputs": [],
   "source": [
    "# Emissivity\n",
    "reload(gridb)\n",
    "emiss = gridb.set_emiss(param,r_corners=r_corners)"
   ]
  },
  {
   "cell_type": "code",
   "execution_count": 96,
   "metadata": {
    "collapsed": false
   },
   "outputs": [],
   "source": [
    "# Check emissivity\n",
    "plt.clf()\n",
    "plt.imshow(emiss[:,25,:],origin='lower')\n",
    "plt.colorbar()\n",
    "plt.show()"
   ]
  },
  {
   "cell_type": "code",
   "execution_count": 93,
   "metadata": {
    "collapsed": false
   },
   "outputs": [
    {
     "data": {
      "text/plain": [
       "array([ 0.8       ,  1.13137085,  0.        ,  0.8       ,  1.13137085,\n",
       "        1.38564065,  0.8       ,  1.13137085])"
      ]
     },
     "execution_count": 93,
     "metadata": {},
     "output_type": "execute_result"
    }
   ],
   "source": [
    "r_corners[25,25,25,:]"
   ]
  },
  {
   "cell_type": "code",
   "execution_count": null,
   "metadata": {
    "collapsed": true
   },
   "outputs": [],
   "source": []
  }
 ],
 "metadata": {
  "kernelspec": {
   "display_name": "Python 2",
   "language": "python",
   "name": "python2"
  },
  "language_info": {
   "codemirror_mode": {
    "name": "ipython",
    "version": 2
   },
   "file_extension": ".py",
   "mimetype": "text/x-python",
   "name": "python",
   "nbconvert_exporter": "python",
   "pygments_lexer": "ipython2",
   "version": "2.7.10"
  }
 },
 "nbformat": 4,
 "nbformat_minor": 0
}
