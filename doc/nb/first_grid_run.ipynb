{
 "cells": [
  {
   "cell_type": "markdown",
   "metadata": {},
   "source": [
    "# Fussing about with a first grid run in 2018"
   ]
  },
  {
   "cell_type": "code",
   "execution_count": 5,
   "metadata": {
    "collapsed": true
   },
   "outputs": [],
   "source": [
    "# imports\n",
    "import numpy as np\n",
    "\n",
    "from astropy.table import Table"
   ]
  },
  {
   "cell_type": "markdown",
   "metadata": {},
   "source": [
    "## Load up a file"
   ]
  },
  {
   "cell_type": "code",
   "execution_count": 2,
   "metadata": {
    "collapsed": true
   },
   "outputs": [],
   "source": [
    "exmpl_file = '../../HydroSims/wind_sim_tabular.dat'"
   ]
  },
  {
   "cell_type": "code",
   "execution_count": 3,
   "metadata": {
    "collapsed": true
   },
   "outputs": [],
   "source": [
    "wind_sim = Table.read(exmpl_file, format='ascii')"
   ]
  },
  {
   "cell_type": "code",
   "execution_count": 18,
   "metadata": {},
   "outputs": [
    {
     "data": {
      "text/plain": [
       "3716520"
      ]
     },
     "execution_count": 18,
     "metadata": {},
     "output_type": "execute_result"
    }
   ],
   "source": [
    "len(wind_sim)"
   ]
  },
  {
   "cell_type": "code",
   "execution_count": 4,
   "metadata": {},
   "outputs": [
    {
     "data": {
      "text/html": [
       "&lt;Table length=5&gt;\n",
       "<table id=\"table140094586236432\" class=\"table-striped table-bordered table-condensed\">\n",
       "<thead><tr><th>x</th><th>y</th><th>z</th><th>n_gas</th><th>vel_x</th><th>vel_y</th><th>vel_z</th><th>vel_disp</th><th>logT</th><th>n_star</th><th>Z_gas</th></tr></thead>\n",
       "<thead><tr><th>float64</th><th>float64</th><th>float64</th><th>float64</th><th>float64</th><th>float64</th><th>float64</th><th>float64</th><th>float64</th><th>float64</th><th>float64</th></tr></thead>\n",
       "<tr><td>-46.0308978716</td><td>-3.66714529729</td><td>-19.1019895647</td><td>4.96170898133e-06</td><td>-462.792940315</td><td>98.9640320071</td><td>-138.087328934</td><td>170.481121838</td><td>6.06924002971</td><td>0.0</td><td>0.00598114188913</td></tr>\n",
       "<tr><td>-46.0308978716</td><td>-2.79140904511</td><td>-19.1019895647</td><td>8.18929564484e-06</td><td>-293.728604884</td><td>145.841489464</td><td>-74.6809158832</td><td>137.614248731</td><td>5.88321424771</td><td>0.0</td><td>0.00611500210091</td></tr>\n",
       "<tr><td>-46.0308978716</td><td>-1.91567279293</td><td>-19.1019895647</td><td>1.23029541226e-05</td><td>-201.129189034</td><td>175.710044617</td><td>-37.5475346052</td><td>128.824908818</td><td>5.82588712808</td><td>0.0</td><td>0.00583554489676</td></tr>\n",
       "<tr><td>-32.894854089</td><td>-29.9392328627</td><td>-22.6049345734</td><td>4.71793897309e-07</td><td>-647.033784986</td><td>-803.902912035</td><td>-585.638059248</td><td>697.02427507</td><td>7.29238324743</td><td>0.0</td><td>0.0101677624702</td></tr>\n",
       "<tr><td>-32.0191178368</td><td>-30.8149691149</td><td>-22.6049345734</td><td>5.71307560094e-07</td><td>-560.355536939</td><td>-743.753768925</td><td>-506.380833271</td><td>632.151059195</td><td>7.2075291805</td><td>0.0</td><td>0.0102453458864</td></tr>\n",
       "</table>"
      ],
      "text/plain": [
       "<Table length=5>\n",
       "      x              y              z        ...  n_star      Z_gas      \n",
       "   float64        float64        float64     ... float64     float64     \n",
       "-------------- -------------- -------------- ... ------- ----------------\n",
       "-46.0308978716 -3.66714529729 -19.1019895647 ...     0.0 0.00598114188913\n",
       "-46.0308978716 -2.79140904511 -19.1019895647 ...     0.0 0.00611500210091\n",
       "-46.0308978716 -1.91567279293 -19.1019895647 ...     0.0 0.00583554489676\n",
       " -32.894854089 -29.9392328627 -22.6049345734 ...     0.0  0.0101677624702\n",
       "-32.0191178368 -30.8149691149 -22.6049345734 ...     0.0  0.0102453458864"
      ]
     },
     "execution_count": 4,
     "metadata": {},
     "output_type": "execute_result"
    }
   ],
   "source": [
    "wind_sim[0:5]"
   ]
  },
  {
   "cell_type": "markdown",
   "metadata": {},
   "source": [
    "## Examine a bit"
   ]
  },
  {
   "cell_type": "code",
   "execution_count": 7,
   "metadata": {},
   "outputs": [
    {
     "data": {
      "text/plain": [
       "0.20165481438025151"
      ]
     },
     "execution_count": 7,
     "metadata": {},
     "output_type": "execute_result"
    }
   ],
   "source": [
    "np.max(wind_sim['n_star'])"
   ]
  },
  {
   "cell_type": "code",
   "execution_count": 8,
   "metadata": {},
   "outputs": [
    {
     "data": {
      "text/plain": [
       "17.794236354233181"
      ]
     },
     "execution_count": 8,
     "metadata": {},
     "output_type": "execute_result"
    }
   ],
   "source": [
    "np.sum(wind_sim['n_star'])"
   ]
  },
  {
   "cell_type": "markdown",
   "metadata": {},
   "source": [
    "## Sort to match expected input"
   ]
  },
  {
   "cell_type": "code",
   "execution_count": 17,
   "metadata": {},
   "outputs": [
    {
     "data": {
      "text/plain": [
       "(-49.752758391001407, 49.205438105273061)"
      ]
     },
     "execution_count": 17,
     "metadata": {},
     "output_type": "execute_result"
    }
   ],
   "source": [
    "np.min(wind_sim['z']), np.max(wind_sim['z'])"
   ]
  },
  {
   "cell_type": "code",
   "execution_count": 13,
   "metadata": {},
   "outputs": [],
   "source": [
    "val = wind_sim['x']*10000 + wind_sim['y']*100 + wind_sim['z']"
   ]
  },
  {
   "cell_type": "code",
   "execution_count": 15,
   "metadata": {},
   "outputs": [],
   "source": [
    "isrt = np.argsort(val)"
   ]
  },
  {
   "cell_type": "code",
   "execution_count": 16,
   "metadata": {},
   "outputs": [
    {
     "data": {
      "text/html": [
       "&lt;Column name=&apos;x&apos; dtype=&apos;float64&apos; length=5&gt;\n",
       "<table>\n",
       "<tr><td>-495970.32721</td></tr>\n",
       "<tr><td>-495969.451474</td></tr>\n",
       "<tr><td>-495968.575737</td></tr>\n",
       "<tr><td>-495967.700001</td></tr>\n",
       "<tr><td>-495966.824265</td></tr>\n",
       "</table>"
      ],
      "text/plain": [
       "<Column name='x' dtype='float64' length=5>\n",
       " -495970.32721\n",
       "-495969.451474\n",
       "-495968.575737\n",
       "-495967.700001\n",
       "-495966.824265"
      ]
     },
     "execution_count": 16,
     "metadata": {},
     "output_type": "execute_result"
    }
   ],
   "source": [
    "val[isrt][0:5]"
   ]
  },
  {
   "cell_type": "markdown",
   "metadata": {},
   "source": [
    "## Write-out the entries needed and in the required order"
   ]
  },
  {
   "cell_type": "code",
   "execution_count": 9,
   "metadata": {
    "collapsed": true
   },
   "outputs": [],
   "source": [
    "new_wind_sim = wind_sim[['n_gas', 'vel_x', 'vel_y', 'vel_z', 'n_star', 'vel_disp']]"
   ]
  },
  {
   "cell_type": "code",
   "execution_count": 10,
   "metadata": {
    "collapsed": true
   },
   "outputs": [],
   "source": [
    "new_wind_sim.write('../../HydroSims/wind_sim_input.ascii', format='ascii')"
   ]
  },
  {
   "cell_type": "markdown",
   "metadata": {},
   "source": [
    "### I then stripped the first line with vi"
   ]
  },
  {
   "cell_type": "markdown",
   "metadata": {},
   "source": [
    "## Compile the code"
   ]
  },
  {
   "cell_type": "markdown",
   "metadata": {},
   "source": [
    "### Copied all the code into FirstRun/"
   ]
  },
  {
   "cell_type": "markdown",
   "metadata": {},
   "source": [
    "### Need mpicxx on profx\n",
    "    sudo apt-get install libcr-dev mpich"
   ]
  },
  {
   "cell_type": "markdown",
   "metadata": {},
   "source": [
    "### Need liblua and its source code\n",
    "    https://www.lua.org/download.html\n",
    "    make linux\n",
    "    make test"
   ]
  },
  {
   "cell_type": "markdown",
   "metadata": {},
   "source": [
    "## Running\n",
    "    Edit the param.lua file"
   ]
  },
  {
   "cell_type": "code",
   "execution_count": null,
   "metadata": {
    "collapsed": true
   },
   "outputs": [],
   "source": []
  }
 ],
 "metadata": {
  "kernelspec": {
   "display_name": "Python 3",
   "language": "python",
   "name": "python3"
  },
  "language_info": {
   "codemirror_mode": {
    "name": "ipython",
    "version": 3
   },
   "file_extension": ".py",
   "mimetype": "text/x-python",
   "name": "python",
   "nbconvert_exporter": "python",
   "pygments_lexer": "ipython3",
   "version": "3.6.2"
  }
 },
 "nbformat": 4,
 "nbformat_minor": 2
}
