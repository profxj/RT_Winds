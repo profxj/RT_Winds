{
 "cells": [
  {
   "cell_type": "markdown",
   "metadata": {},
   "source": [
    "# Fussing about with a first grid run in 2018 (v2)\n",
    "    v2 Working on the unigrid"
   ]
  },
  {
   "cell_type": "code",
   "execution_count": 28,
   "metadata": {
    "collapsed": true
   },
   "outputs": [],
   "source": [
    "%matplotlib notebook"
   ]
  },
  {
   "cell_type": "code",
   "execution_count": 26,
   "metadata": {
    "collapsed": true
   },
   "outputs": [],
   "source": [
    "# imports\n",
    "import numpy as np\n",
    "from matplotlib import pyplot as plt\n",
    "\n",
    "from astropy.table import Table"
   ]
  },
  {
   "cell_type": "markdown",
   "metadata": {},
   "source": [
    "## Load up a file"
   ]
  },
  {
   "cell_type": "code",
   "execution_count": 33,
   "metadata": {
    "collapsed": true
   },
   "outputs": [],
   "source": [
    "exmpl_file = '../../HydroSims/wind_sim_tabular_unigrid.dat'"
   ]
  },
  {
   "cell_type": "code",
   "execution_count": 34,
   "metadata": {},
   "outputs": [],
   "source": [
    "wind_sim = Table.read(exmpl_file, format='ascii')"
   ]
  },
  {
   "cell_type": "code",
   "execution_count": 35,
   "metadata": {},
   "outputs": [
    {
     "data": {
      "text/plain": [
       "1000000"
      ]
     },
     "execution_count": 35,
     "metadata": {},
     "output_type": "execute_result"
    }
   ],
   "source": [
    "len(wind_sim)"
   ]
  },
  {
   "cell_type": "code",
   "execution_count": 36,
   "metadata": {},
   "outputs": [
    {
     "data": {
      "text/html": [
       "&lt;Table length=5&gt;\n",
       "<table id=\"table140001330928216\" class=\"table-striped table-bordered table-condensed\">\n",
       "<thead><tr><th>x</th><th>y</th><th>z</th><th>n_gas</th><th>vel_x</th><th>vel_y</th><th>vel_z</th><th>vel_disp</th><th>logT</th><th>n_star</th></tr></thead>\n",
       "<thead><tr><th>float64</th><th>float64</th><th>float64</th><th>float64</th><th>float64</th><th>float64</th><th>float64</th><th>float64</th><th>float64</th><th>float64</th></tr></thead>\n",
       "<tr><td>-19.8000000023</td><td>-19.7999999963</td><td>-19.7999999955</td><td>1.81889675708e-06</td><td>-1017.56225167</td><td>-161.028037708</td><td>-617.264208398</td><td>650.604074237</td><td>7.23252099782</td><td>42.7741295049</td></tr>\n",
       "<tr><td>-19.8000000023</td><td>-19.7999999963</td><td>-19.3999999955</td><td>1.95862660131e-06</td><td>-948.862639431</td><td>-129.113538542</td><td>-573.568002269</td><td>621.84784379</td><td>7.19325570617</td><td>0.0</td></tr>\n",
       "<tr><td>-19.8000000023</td><td>-19.7999999963</td><td>-18.9999999955</td><td>2.24291911343e-06</td><td>-872.937997606</td><td>-93.7692533596</td><td>-541.153992914</td><td>590.192432322</td><td>7.14787471361</td><td>0.0</td></tr>\n",
       "<tr><td>-19.8000000023</td><td>-19.7999999963</td><td>-18.5999999955</td><td>2.57341014013e-06</td><td>-802.142055691</td><td>-63.8387927887</td><td>-517.368711905</td><td>557.582393022</td><td>7.09850554347</td><td>0.0</td></tr>\n",
       "<tr><td>-19.8000000023</td><td>-19.7999999963</td><td>-18.1999999955</td><td>2.9386554329e-06</td><td>-743.952916242</td><td>-40.9233617553</td><td>-499.152745044</td><td>527.669061324</td><td>7.05061070271</td><td>0.0</td></tr>\n",
       "</table>"
      ],
      "text/plain": [
       "<Table length=5>\n",
       "      x              y              z        ...      logT         n_star   \n",
       "   float64        float64        float64     ...    float64       float64   \n",
       "-------------- -------------- -------------- ... ------------- -------------\n",
       "-19.8000000023 -19.7999999963 -19.7999999955 ... 7.23252099782 42.7741295049\n",
       "-19.8000000023 -19.7999999963 -19.3999999955 ... 7.19325570617           0.0\n",
       "-19.8000000023 -19.7999999963 -18.9999999955 ... 7.14787471361           0.0\n",
       "-19.8000000023 -19.7999999963 -18.5999999955 ... 7.09850554347           0.0\n",
       "-19.8000000023 -19.7999999963 -18.1999999955 ... 7.05061070271           0.0"
      ]
     },
     "execution_count": 36,
     "metadata": {},
     "output_type": "execute_result"
    }
   ],
   "source": [
    "wind_sim[0:5]"
   ]
  },
  {
   "cell_type": "code",
   "execution_count": 42,
   "metadata": {},
   "outputs": [
    {
     "data": {
      "text/plain": [
       "0.0"
      ]
     },
     "execution_count": 42,
     "metadata": {},
     "output_type": "execute_result"
    }
   ],
   "source": [
    "np.max(wind_sim['n_star'][1:])"
   ]
  },
  {
   "cell_type": "markdown",
   "metadata": {},
   "source": [
    "## Examine a bit"
   ]
  },
  {
   "cell_type": "code",
   "execution_count": 7,
   "metadata": {},
   "outputs": [
    {
     "data": {
      "text/plain": [
       "42.774129504915237"
      ]
     },
     "execution_count": 7,
     "metadata": {},
     "output_type": "execute_result"
    }
   ],
   "source": [
    "np.max(wind_sim['n_star'])"
   ]
  },
  {
   "cell_type": "code",
   "execution_count": 8,
   "metadata": {},
   "outputs": [
    {
     "data": {
      "text/plain": [
       "42.774129504915237"
      ]
     },
     "execution_count": 8,
     "metadata": {},
     "output_type": "execute_result"
    }
   ],
   "source": [
    "np.sum(wind_sim['n_star'])"
   ]
  },
  {
   "cell_type": "markdown",
   "metadata": {},
   "source": [
    "## Cut on cold gas"
   ]
  },
  {
   "cell_type": "code",
   "execution_count": 43,
   "metadata": {},
   "outputs": [
    {
     "data": {
      "text/plain": [
       "318843"
      ]
     },
     "execution_count": 43,
     "metadata": {},
     "output_type": "execute_result"
    }
   ],
   "source": [
    "cold_cells = wind_sim['logT'] < 5.\n",
    "np.sum(cold_cells)"
   ]
  },
  {
   "cell_type": "code",
   "execution_count": 45,
   "metadata": {},
   "outputs": [],
   "source": [
    "wind_sim['n_gas'][~cold_cells] = 0."
   ]
  },
  {
   "cell_type": "code",
   "execution_count": 46,
   "metadata": {},
   "outputs": [
    {
     "data": {
      "text/html": [
       "&lt;Table length=5&gt;\n",
       "<table id=\"table140001330648456\" class=\"table-striped table-bordered table-condensed\">\n",
       "<thead><tr><th>x</th><th>y</th><th>z</th><th>n_gas</th><th>vel_x</th><th>vel_y</th><th>vel_z</th><th>vel_disp</th><th>logT</th><th>n_star</th></tr></thead>\n",
       "<thead><tr><th>float64</th><th>float64</th><th>float64</th><th>float64</th><th>float64</th><th>float64</th><th>float64</th><th>float64</th><th>float64</th><th>float64</th></tr></thead>\n",
       "<tr><td>-19.8000000023</td><td>-19.7999999963</td><td>-19.7999999955</td><td>0.0</td><td>-1017.56225167</td><td>-161.028037708</td><td>-617.264208398</td><td>650.604074237</td><td>7.23252099782</td><td>42.7741295049</td></tr>\n",
       "<tr><td>-19.8000000023</td><td>-19.7999999963</td><td>-19.3999999955</td><td>0.0</td><td>-948.862639431</td><td>-129.113538542</td><td>-573.568002269</td><td>621.84784379</td><td>7.19325570617</td><td>0.0</td></tr>\n",
       "<tr><td>-19.8000000023</td><td>-19.7999999963</td><td>-18.9999999955</td><td>0.0</td><td>-872.937997606</td><td>-93.7692533596</td><td>-541.153992914</td><td>590.192432322</td><td>7.14787471361</td><td>0.0</td></tr>\n",
       "<tr><td>-19.8000000023</td><td>-19.7999999963</td><td>-18.5999999955</td><td>0.0</td><td>-802.142055691</td><td>-63.8387927887</td><td>-517.368711905</td><td>557.582393022</td><td>7.09850554347</td><td>0.0</td></tr>\n",
       "<tr><td>-19.8000000023</td><td>-19.7999999963</td><td>-18.1999999955</td><td>0.0</td><td>-743.952916242</td><td>-40.9233617553</td><td>-499.152745044</td><td>527.669061324</td><td>7.05061070271</td><td>0.0</td></tr>\n",
       "</table>"
      ],
      "text/plain": [
       "<Table length=5>\n",
       "      x              y              z        ...      logT         n_star   \n",
       "   float64        float64        float64     ...    float64       float64   \n",
       "-------------- -------------- -------------- ... ------------- -------------\n",
       "-19.8000000023 -19.7999999963 -19.7999999955 ... 7.23252099782 42.7741295049\n",
       "-19.8000000023 -19.7999999963 -19.3999999955 ... 7.19325570617           0.0\n",
       "-19.8000000023 -19.7999999963 -18.9999999955 ... 7.14787471361           0.0\n",
       "-19.8000000023 -19.7999999963 -18.5999999955 ... 7.09850554347           0.0\n",
       "-19.8000000023 -19.7999999963 -18.1999999955 ... 7.05061070271           0.0"
      ]
     },
     "execution_count": 46,
     "metadata": {},
     "output_type": "execute_result"
    }
   ],
   "source": [
    "wind_sim[0:5]"
   ]
  },
  {
   "cell_type": "markdown",
   "metadata": {},
   "source": [
    "## Write-out the entries needed and in the required order"
   ]
  },
  {
   "cell_type": "code",
   "execution_count": 13,
   "metadata": {
    "collapsed": true
   },
   "outputs": [],
   "source": [
    "new_wind_sim = wind_sim[['n_gas', 'vel_x', 'vel_y', 'vel_z', 'n_star', 'vel_disp']]"
   ]
  },
  {
   "cell_type": "code",
   "execution_count": 14,
   "metadata": {
    "collapsed": true
   },
   "outputs": [],
   "source": [
    "new_wind_sim.write('../../HydroSims/wind_sim_input2.ascii', format='ascii', overwrite=True)"
   ]
  },
  {
   "cell_type": "markdown",
   "metadata": {},
   "source": [
    "### I then stripped the first line with vi"
   ]
  },
  {
   "cell_type": "markdown",
   "metadata": {},
   "source": [
    "## Compile the code"
   ]
  },
  {
   "cell_type": "markdown",
   "metadata": {},
   "source": [
    "### Copied all the code into FirstRun/"
   ]
  },
  {
   "cell_type": "markdown",
   "metadata": {},
   "source": [
    "### Need mpicxx on profx\n",
    "    sudo apt-get install libcr-dev mpich"
   ]
  },
  {
   "cell_type": "markdown",
   "metadata": {},
   "source": [
    "### Need liblua and its source code\n",
    "    https://www.lua.org/download.html\n",
    "    make linux\n",
    "    make test"
   ]
  },
  {
   "cell_type": "markdown",
   "metadata": {},
   "source": [
    "## Running\n",
    "    Edit the param.lua file"
   ]
  },
  {
   "cell_type": "markdown",
   "metadata": {
    "collapsed": true
   },
   "source": [
    "## Check the output"
   ]
  },
  {
   "cell_type": "code",
   "execution_count": 15,
   "metadata": {
    "collapsed": true
   },
   "outputs": [],
   "source": [
    "nlam = 240\n",
    "nx = 100\n",
    "ny = 100\n",
    "lam0 = 2.77e3\n",
    "dlam = 2.5e-1\n",
    "dx = 0.4 # kpc"
   ]
  },
  {
   "cell_type": "code",
   "execution_count": 16,
   "metadata": {
    "collapsed": true
   },
   "outputs": [],
   "source": [
    "spec_tbl = Table.read('../../HydroSims/FirstRun/spec_fuss.ascii', format='ascii')"
   ]
  },
  {
   "cell_type": "code",
   "execution_count": 17,
   "metadata": {},
   "outputs": [
    {
     "data": {
      "text/html": [
       "&lt;Table length=5&gt;\n",
       "<table id=\"table140000787367416\" class=\"table-striped table-bordered table-condensed\">\n",
       "<thead><tr><th>col1</th><th>col2</th></tr></thead>\n",
       "<thead><tr><th>float64</th><th>float64</th></tr></thead>\n",
       "<tr><td>0.0</td><td>0.0</td></tr>\n",
       "<tr><td>0.0</td><td>0.0</td></tr>\n",
       "<tr><td>0.0</td><td>0.0</td></tr>\n",
       "<tr><td>0.0</td><td>0.0</td></tr>\n",
       "<tr><td>0.0</td><td>0.0</td></tr>\n",
       "</table>"
      ],
      "text/plain": [
       "<Table length=5>\n",
       "  col1    col2 \n",
       "float64 float64\n",
       "------- -------\n",
       "    0.0     0.0\n",
       "    0.0     0.0\n",
       "    0.0     0.0\n",
       "    0.0     0.0\n",
       "    0.0     0.0"
      ]
     },
     "execution_count": 17,
     "metadata": {},
     "output_type": "execute_result"
    }
   ],
   "source": [
    "spec_tbl[0:5]"
   ]
  },
  {
   "cell_type": "markdown",
   "metadata": {},
   "source": [
    "### Build spectrum"
   ]
  },
  {
   "cell_type": "code",
   "execution_count": 23,
   "metadata": {
    "collapsed": true
   },
   "outputs": [],
   "source": [
    "flux = np.zeros(nlam)"
   ]
  },
  {
   "cell_type": "code",
   "execution_count": 24,
   "metadata": {
    "collapsed": true
   },
   "outputs": [],
   "source": [
    "for kk in range(nlam):\n",
    "    tmp = np.roll(counts,kk)[::100*100]\n",
    "    flux[kk] = np.sum(tmp)"
   ]
  },
  {
   "cell_type": "code",
   "execution_count": 27,
   "metadata": {
    "collapsed": true
   },
   "outputs": [],
   "source": [
    "wave = lam0 + dlam*np.arange(nlam)"
   ]
  },
  {
   "cell_type": "markdown",
   "metadata": {},
   "source": [
    "### Plot"
   ]
  },
  {
   "cell_type": "code",
   "execution_count": 29,
   "metadata": {},
   "outputs": [
    {
     "data": {
      "application/javascript": [
       "/* Put everything inside the global mpl namespace */\n",
       "window.mpl = {};\n",
       "\n",
       "\n",
       "mpl.get_websocket_type = function() {\n",
       "    if (typeof(WebSocket) !== 'undefined') {\n",
       "        return WebSocket;\n",
       "    } else if (typeof(MozWebSocket) !== 'undefined') {\n",
       "        return MozWebSocket;\n",
       "    } else {\n",
       "        alert('Your browser does not have WebSocket support.' +\n",
       "              'Please try Chrome, Safari or Firefox ≥ 6. ' +\n",
       "              'Firefox 4 and 5 are also supported but you ' +\n",
       "              'have to enable WebSockets in about:config.');\n",
       "    };\n",
       "}\n",
       "\n",
       "mpl.figure = function(figure_id, websocket, ondownload, parent_element) {\n",
       "    this.id = figure_id;\n",
       "\n",
       "    this.ws = websocket;\n",
       "\n",
       "    this.supports_binary = (this.ws.binaryType != undefined);\n",
       "\n",
       "    if (!this.supports_binary) {\n",
       "        var warnings = document.getElementById(\"mpl-warnings\");\n",
       "        if (warnings) {\n",
       "            warnings.style.display = 'block';\n",
       "            warnings.textContent = (\n",
       "                \"This browser does not support binary websocket messages. \" +\n",
       "                    \"Performance may be slow.\");\n",
       "        }\n",
       "    }\n",
       "\n",
       "    this.imageObj = new Image();\n",
       "\n",
       "    this.context = undefined;\n",
       "    this.message = undefined;\n",
       "    this.canvas = undefined;\n",
       "    this.rubberband_canvas = undefined;\n",
       "    this.rubberband_context = undefined;\n",
       "    this.format_dropdown = undefined;\n",
       "\n",
       "    this.image_mode = 'full';\n",
       "\n",
       "    this.root = $('<div/>');\n",
       "    this._root_extra_style(this.root)\n",
       "    this.root.attr('style', 'display: inline-block');\n",
       "\n",
       "    $(parent_element).append(this.root);\n",
       "\n",
       "    this._init_header(this);\n",
       "    this._init_canvas(this);\n",
       "    this._init_toolbar(this);\n",
       "\n",
       "    var fig = this;\n",
       "\n",
       "    this.waiting = false;\n",
       "\n",
       "    this.ws.onopen =  function () {\n",
       "            fig.send_message(\"supports_binary\", {value: fig.supports_binary});\n",
       "            fig.send_message(\"send_image_mode\", {});\n",
       "            if (mpl.ratio != 1) {\n",
       "                fig.send_message(\"set_dpi_ratio\", {'dpi_ratio': mpl.ratio});\n",
       "            }\n",
       "            fig.send_message(\"refresh\", {});\n",
       "        }\n",
       "\n",
       "    this.imageObj.onload = function() {\n",
       "            if (fig.image_mode == 'full') {\n",
       "                // Full images could contain transparency (where diff images\n",
       "                // almost always do), so we need to clear the canvas so that\n",
       "                // there is no ghosting.\n",
       "                fig.context.clearRect(0, 0, fig.canvas.width, fig.canvas.height);\n",
       "            }\n",
       "            fig.context.drawImage(fig.imageObj, 0, 0);\n",
       "        };\n",
       "\n",
       "    this.imageObj.onunload = function() {\n",
       "        this.ws.close();\n",
       "    }\n",
       "\n",
       "    this.ws.onmessage = this._make_on_message_function(this);\n",
       "\n",
       "    this.ondownload = ondownload;\n",
       "}\n",
       "\n",
       "mpl.figure.prototype._init_header = function() {\n",
       "    var titlebar = $(\n",
       "        '<div class=\"ui-dialog-titlebar ui-widget-header ui-corner-all ' +\n",
       "        'ui-helper-clearfix\"/>');\n",
       "    var titletext = $(\n",
       "        '<div class=\"ui-dialog-title\" style=\"width: 100%; ' +\n",
       "        'text-align: center; padding: 3px;\"/>');\n",
       "    titlebar.append(titletext)\n",
       "    this.root.append(titlebar);\n",
       "    this.header = titletext[0];\n",
       "}\n",
       "\n",
       "\n",
       "\n",
       "mpl.figure.prototype._canvas_extra_style = function(canvas_div) {\n",
       "\n",
       "}\n",
       "\n",
       "\n",
       "mpl.figure.prototype._root_extra_style = function(canvas_div) {\n",
       "\n",
       "}\n",
       "\n",
       "mpl.figure.prototype._init_canvas = function() {\n",
       "    var fig = this;\n",
       "\n",
       "    var canvas_div = $('<div/>');\n",
       "\n",
       "    canvas_div.attr('style', 'position: relative; clear: both; outline: 0');\n",
       "\n",
       "    function canvas_keyboard_event(event) {\n",
       "        return fig.key_event(event, event['data']);\n",
       "    }\n",
       "\n",
       "    canvas_div.keydown('key_press', canvas_keyboard_event);\n",
       "    canvas_div.keyup('key_release', canvas_keyboard_event);\n",
       "    this.canvas_div = canvas_div\n",
       "    this._canvas_extra_style(canvas_div)\n",
       "    this.root.append(canvas_div);\n",
       "\n",
       "    var canvas = $('<canvas/>');\n",
       "    canvas.addClass('mpl-canvas');\n",
       "    canvas.attr('style', \"left: 0; top: 0; z-index: 0; outline: 0\")\n",
       "\n",
       "    this.canvas = canvas[0];\n",
       "    this.context = canvas[0].getContext(\"2d\");\n",
       "\n",
       "    var backingStore = this.context.backingStorePixelRatio ||\n",
       "\tthis.context.webkitBackingStorePixelRatio ||\n",
       "\tthis.context.mozBackingStorePixelRatio ||\n",
       "\tthis.context.msBackingStorePixelRatio ||\n",
       "\tthis.context.oBackingStorePixelRatio ||\n",
       "\tthis.context.backingStorePixelRatio || 1;\n",
       "\n",
       "    mpl.ratio = (window.devicePixelRatio || 1) / backingStore;\n",
       "\n",
       "    var rubberband = $('<canvas/>');\n",
       "    rubberband.attr('style', \"position: absolute; left: 0; top: 0; z-index: 1;\")\n",
       "\n",
       "    var pass_mouse_events = true;\n",
       "\n",
       "    canvas_div.resizable({\n",
       "        start: function(event, ui) {\n",
       "            pass_mouse_events = false;\n",
       "        },\n",
       "        resize: function(event, ui) {\n",
       "            fig.request_resize(ui.size.width, ui.size.height);\n",
       "        },\n",
       "        stop: function(event, ui) {\n",
       "            pass_mouse_events = true;\n",
       "            fig.request_resize(ui.size.width, ui.size.height);\n",
       "        },\n",
       "    });\n",
       "\n",
       "    function mouse_event_fn(event) {\n",
       "        if (pass_mouse_events)\n",
       "            return fig.mouse_event(event, event['data']);\n",
       "    }\n",
       "\n",
       "    rubberband.mousedown('button_press', mouse_event_fn);\n",
       "    rubberband.mouseup('button_release', mouse_event_fn);\n",
       "    // Throttle sequential mouse events to 1 every 20ms.\n",
       "    rubberband.mousemove('motion_notify', mouse_event_fn);\n",
       "\n",
       "    rubberband.mouseenter('figure_enter', mouse_event_fn);\n",
       "    rubberband.mouseleave('figure_leave', mouse_event_fn);\n",
       "\n",
       "    canvas_div.on(\"wheel\", function (event) {\n",
       "        event = event.originalEvent;\n",
       "        event['data'] = 'scroll'\n",
       "        if (event.deltaY < 0) {\n",
       "            event.step = 1;\n",
       "        } else {\n",
       "            event.step = -1;\n",
       "        }\n",
       "        mouse_event_fn(event);\n",
       "    });\n",
       "\n",
       "    canvas_div.append(canvas);\n",
       "    canvas_div.append(rubberband);\n",
       "\n",
       "    this.rubberband = rubberband;\n",
       "    this.rubberband_canvas = rubberband[0];\n",
       "    this.rubberband_context = rubberband[0].getContext(\"2d\");\n",
       "    this.rubberband_context.strokeStyle = \"#000000\";\n",
       "\n",
       "    this._resize_canvas = function(width, height) {\n",
       "        // Keep the size of the canvas, canvas container, and rubber band\n",
       "        // canvas in synch.\n",
       "        canvas_div.css('width', width)\n",
       "        canvas_div.css('height', height)\n",
       "\n",
       "        canvas.attr('width', width * mpl.ratio);\n",
       "        canvas.attr('height', height * mpl.ratio);\n",
       "        canvas.attr('style', 'width: ' + width + 'px; height: ' + height + 'px;');\n",
       "\n",
       "        rubberband.attr('width', width);\n",
       "        rubberband.attr('height', height);\n",
       "    }\n",
       "\n",
       "    // Set the figure to an initial 600x600px, this will subsequently be updated\n",
       "    // upon first draw.\n",
       "    this._resize_canvas(600, 600);\n",
       "\n",
       "    // Disable right mouse context menu.\n",
       "    $(this.rubberband_canvas).bind(\"contextmenu\",function(e){\n",
       "        return false;\n",
       "    });\n",
       "\n",
       "    function set_focus () {\n",
       "        canvas.focus();\n",
       "        canvas_div.focus();\n",
       "    }\n",
       "\n",
       "    window.setTimeout(set_focus, 100);\n",
       "}\n",
       "\n",
       "mpl.figure.prototype._init_toolbar = function() {\n",
       "    var fig = this;\n",
       "\n",
       "    var nav_element = $('<div/>')\n",
       "    nav_element.attr('style', 'width: 100%');\n",
       "    this.root.append(nav_element);\n",
       "\n",
       "    // Define a callback function for later on.\n",
       "    function toolbar_event(event) {\n",
       "        return fig.toolbar_button_onclick(event['data']);\n",
       "    }\n",
       "    function toolbar_mouse_event(event) {\n",
       "        return fig.toolbar_button_onmouseover(event['data']);\n",
       "    }\n",
       "\n",
       "    for(var toolbar_ind in mpl.toolbar_items) {\n",
       "        var name = mpl.toolbar_items[toolbar_ind][0];\n",
       "        var tooltip = mpl.toolbar_items[toolbar_ind][1];\n",
       "        var image = mpl.toolbar_items[toolbar_ind][2];\n",
       "        var method_name = mpl.toolbar_items[toolbar_ind][3];\n",
       "\n",
       "        if (!name) {\n",
       "            // put a spacer in here.\n",
       "            continue;\n",
       "        }\n",
       "        var button = $('<button/>');\n",
       "        button.addClass('ui-button ui-widget ui-state-default ui-corner-all ' +\n",
       "                        'ui-button-icon-only');\n",
       "        button.attr('role', 'button');\n",
       "        button.attr('aria-disabled', 'false');\n",
       "        button.click(method_name, toolbar_event);\n",
       "        button.mouseover(tooltip, toolbar_mouse_event);\n",
       "\n",
       "        var icon_img = $('<span/>');\n",
       "        icon_img.addClass('ui-button-icon-primary ui-icon');\n",
       "        icon_img.addClass(image);\n",
       "        icon_img.addClass('ui-corner-all');\n",
       "\n",
       "        var tooltip_span = $('<span/>');\n",
       "        tooltip_span.addClass('ui-button-text');\n",
       "        tooltip_span.html(tooltip);\n",
       "\n",
       "        button.append(icon_img);\n",
       "        button.append(tooltip_span);\n",
       "\n",
       "        nav_element.append(button);\n",
       "    }\n",
       "\n",
       "    var fmt_picker_span = $('<span/>');\n",
       "\n",
       "    var fmt_picker = $('<select/>');\n",
       "    fmt_picker.addClass('mpl-toolbar-option ui-widget ui-widget-content');\n",
       "    fmt_picker_span.append(fmt_picker);\n",
       "    nav_element.append(fmt_picker_span);\n",
       "    this.format_dropdown = fmt_picker[0];\n",
       "\n",
       "    for (var ind in mpl.extensions) {\n",
       "        var fmt = mpl.extensions[ind];\n",
       "        var option = $(\n",
       "            '<option/>', {selected: fmt === mpl.default_extension}).html(fmt);\n",
       "        fmt_picker.append(option)\n",
       "    }\n",
       "\n",
       "    // Add hover states to the ui-buttons\n",
       "    $( \".ui-button\" ).hover(\n",
       "        function() { $(this).addClass(\"ui-state-hover\");},\n",
       "        function() { $(this).removeClass(\"ui-state-hover\");}\n",
       "    );\n",
       "\n",
       "    var status_bar = $('<span class=\"mpl-message\"/>');\n",
       "    nav_element.append(status_bar);\n",
       "    this.message = status_bar[0];\n",
       "}\n",
       "\n",
       "mpl.figure.prototype.request_resize = function(x_pixels, y_pixels) {\n",
       "    // Request matplotlib to resize the figure. Matplotlib will then trigger a resize in the client,\n",
       "    // which will in turn request a refresh of the image.\n",
       "    this.send_message('resize', {'width': x_pixels, 'height': y_pixels});\n",
       "}\n",
       "\n",
       "mpl.figure.prototype.send_message = function(type, properties) {\n",
       "    properties['type'] = type;\n",
       "    properties['figure_id'] = this.id;\n",
       "    this.ws.send(JSON.stringify(properties));\n",
       "}\n",
       "\n",
       "mpl.figure.prototype.send_draw_message = function() {\n",
       "    if (!this.waiting) {\n",
       "        this.waiting = true;\n",
       "        this.ws.send(JSON.stringify({type: \"draw\", figure_id: this.id}));\n",
       "    }\n",
       "}\n",
       "\n",
       "\n",
       "mpl.figure.prototype.handle_save = function(fig, msg) {\n",
       "    var format_dropdown = fig.format_dropdown;\n",
       "    var format = format_dropdown.options[format_dropdown.selectedIndex].value;\n",
       "    fig.ondownload(fig, format);\n",
       "}\n",
       "\n",
       "\n",
       "mpl.figure.prototype.handle_resize = function(fig, msg) {\n",
       "    var size = msg['size'];\n",
       "    if (size[0] != fig.canvas.width || size[1] != fig.canvas.height) {\n",
       "        fig._resize_canvas(size[0], size[1]);\n",
       "        fig.send_message(\"refresh\", {});\n",
       "    };\n",
       "}\n",
       "\n",
       "mpl.figure.prototype.handle_rubberband = function(fig, msg) {\n",
       "    var x0 = msg['x0'] / mpl.ratio;\n",
       "    var y0 = (fig.canvas.height - msg['y0']) / mpl.ratio;\n",
       "    var x1 = msg['x1'] / mpl.ratio;\n",
       "    var y1 = (fig.canvas.height - msg['y1']) / mpl.ratio;\n",
       "    x0 = Math.floor(x0) + 0.5;\n",
       "    y0 = Math.floor(y0) + 0.5;\n",
       "    x1 = Math.floor(x1) + 0.5;\n",
       "    y1 = Math.floor(y1) + 0.5;\n",
       "    var min_x = Math.min(x0, x1);\n",
       "    var min_y = Math.min(y0, y1);\n",
       "    var width = Math.abs(x1 - x0);\n",
       "    var height = Math.abs(y1 - y0);\n",
       "\n",
       "    fig.rubberband_context.clearRect(\n",
       "        0, 0, fig.canvas.width, fig.canvas.height);\n",
       "\n",
       "    fig.rubberband_context.strokeRect(min_x, min_y, width, height);\n",
       "}\n",
       "\n",
       "mpl.figure.prototype.handle_figure_label = function(fig, msg) {\n",
       "    // Updates the figure title.\n",
       "    fig.header.textContent = msg['label'];\n",
       "}\n",
       "\n",
       "mpl.figure.prototype.handle_cursor = function(fig, msg) {\n",
       "    var cursor = msg['cursor'];\n",
       "    switch(cursor)\n",
       "    {\n",
       "    case 0:\n",
       "        cursor = 'pointer';\n",
       "        break;\n",
       "    case 1:\n",
       "        cursor = 'default';\n",
       "        break;\n",
       "    case 2:\n",
       "        cursor = 'crosshair';\n",
       "        break;\n",
       "    case 3:\n",
       "        cursor = 'move';\n",
       "        break;\n",
       "    }\n",
       "    fig.rubberband_canvas.style.cursor = cursor;\n",
       "}\n",
       "\n",
       "mpl.figure.prototype.handle_message = function(fig, msg) {\n",
       "    fig.message.textContent = msg['message'];\n",
       "}\n",
       "\n",
       "mpl.figure.prototype.handle_draw = function(fig, msg) {\n",
       "    // Request the server to send over a new figure.\n",
       "    fig.send_draw_message();\n",
       "}\n",
       "\n",
       "mpl.figure.prototype.handle_image_mode = function(fig, msg) {\n",
       "    fig.image_mode = msg['mode'];\n",
       "}\n",
       "\n",
       "mpl.figure.prototype.updated_canvas_event = function() {\n",
       "    // Called whenever the canvas gets updated.\n",
       "    this.send_message(\"ack\", {});\n",
       "}\n",
       "\n",
       "// A function to construct a web socket function for onmessage handling.\n",
       "// Called in the figure constructor.\n",
       "mpl.figure.prototype._make_on_message_function = function(fig) {\n",
       "    return function socket_on_message(evt) {\n",
       "        if (evt.data instanceof Blob) {\n",
       "            /* FIXME: We get \"Resource interpreted as Image but\n",
       "             * transferred with MIME type text/plain:\" errors on\n",
       "             * Chrome.  But how to set the MIME type?  It doesn't seem\n",
       "             * to be part of the websocket stream */\n",
       "            evt.data.type = \"image/png\";\n",
       "\n",
       "            /* Free the memory for the previous frames */\n",
       "            if (fig.imageObj.src) {\n",
       "                (window.URL || window.webkitURL).revokeObjectURL(\n",
       "                    fig.imageObj.src);\n",
       "            }\n",
       "\n",
       "            fig.imageObj.src = (window.URL || window.webkitURL).createObjectURL(\n",
       "                evt.data);\n",
       "            fig.updated_canvas_event();\n",
       "            fig.waiting = false;\n",
       "            return;\n",
       "        }\n",
       "        else if (typeof evt.data === 'string' && evt.data.slice(0, 21) == \"data:image/png;base64\") {\n",
       "            fig.imageObj.src = evt.data;\n",
       "            fig.updated_canvas_event();\n",
       "            fig.waiting = false;\n",
       "            return;\n",
       "        }\n",
       "\n",
       "        var msg = JSON.parse(evt.data);\n",
       "        var msg_type = msg['type'];\n",
       "\n",
       "        // Call the  \"handle_{type}\" callback, which takes\n",
       "        // the figure and JSON message as its only arguments.\n",
       "        try {\n",
       "            var callback = fig[\"handle_\" + msg_type];\n",
       "        } catch (e) {\n",
       "            console.log(\"No handler for the '\" + msg_type + \"' message type: \", msg);\n",
       "            return;\n",
       "        }\n",
       "\n",
       "        if (callback) {\n",
       "            try {\n",
       "                // console.log(\"Handling '\" + msg_type + \"' message: \", msg);\n",
       "                callback(fig, msg);\n",
       "            } catch (e) {\n",
       "                console.log(\"Exception inside the 'handler_\" + msg_type + \"' callback:\", e, e.stack, msg);\n",
       "            }\n",
       "        }\n",
       "    };\n",
       "}\n",
       "\n",
       "// from http://stackoverflow.com/questions/1114465/getting-mouse-location-in-canvas\n",
       "mpl.findpos = function(e) {\n",
       "    //this section is from http://www.quirksmode.org/js/events_properties.html\n",
       "    var targ;\n",
       "    if (!e)\n",
       "        e = window.event;\n",
       "    if (e.target)\n",
       "        targ = e.target;\n",
       "    else if (e.srcElement)\n",
       "        targ = e.srcElement;\n",
       "    if (targ.nodeType == 3) // defeat Safari bug\n",
       "        targ = targ.parentNode;\n",
       "\n",
       "    // jQuery normalizes the pageX and pageY\n",
       "    // pageX,Y are the mouse positions relative to the document\n",
       "    // offset() returns the position of the element relative to the document\n",
       "    var x = e.pageX - $(targ).offset().left;\n",
       "    var y = e.pageY - $(targ).offset().top;\n",
       "\n",
       "    return {\"x\": x, \"y\": y};\n",
       "};\n",
       "\n",
       "/*\n",
       " * return a copy of an object with only non-object keys\n",
       " * we need this to avoid circular references\n",
       " * http://stackoverflow.com/a/24161582/3208463\n",
       " */\n",
       "function simpleKeys (original) {\n",
       "  return Object.keys(original).reduce(function (obj, key) {\n",
       "    if (typeof original[key] !== 'object')\n",
       "        obj[key] = original[key]\n",
       "    return obj;\n",
       "  }, {});\n",
       "}\n",
       "\n",
       "mpl.figure.prototype.mouse_event = function(event, name) {\n",
       "    var canvas_pos = mpl.findpos(event)\n",
       "\n",
       "    if (name === 'button_press')\n",
       "    {\n",
       "        this.canvas.focus();\n",
       "        this.canvas_div.focus();\n",
       "    }\n",
       "\n",
       "    var x = canvas_pos.x * mpl.ratio;\n",
       "    var y = canvas_pos.y * mpl.ratio;\n",
       "\n",
       "    this.send_message(name, {x: x, y: y, button: event.button,\n",
       "                             step: event.step,\n",
       "                             guiEvent: simpleKeys(event)});\n",
       "\n",
       "    /* This prevents the web browser from automatically changing to\n",
       "     * the text insertion cursor when the button is pressed.  We want\n",
       "     * to control all of the cursor setting manually through the\n",
       "     * 'cursor' event from matplotlib */\n",
       "    event.preventDefault();\n",
       "    return false;\n",
       "}\n",
       "\n",
       "mpl.figure.prototype._key_event_extra = function(event, name) {\n",
       "    // Handle any extra behaviour associated with a key event\n",
       "}\n",
       "\n",
       "mpl.figure.prototype.key_event = function(event, name) {\n",
       "\n",
       "    // Prevent repeat events\n",
       "    if (name == 'key_press')\n",
       "    {\n",
       "        if (event.which === this._key)\n",
       "            return;\n",
       "        else\n",
       "            this._key = event.which;\n",
       "    }\n",
       "    if (name == 'key_release')\n",
       "        this._key = null;\n",
       "\n",
       "    var value = '';\n",
       "    if (event.ctrlKey && event.which != 17)\n",
       "        value += \"ctrl+\";\n",
       "    if (event.altKey && event.which != 18)\n",
       "        value += \"alt+\";\n",
       "    if (event.shiftKey && event.which != 16)\n",
       "        value += \"shift+\";\n",
       "\n",
       "    value += 'k';\n",
       "    value += event.which.toString();\n",
       "\n",
       "    this._key_event_extra(event, name);\n",
       "\n",
       "    this.send_message(name, {key: value,\n",
       "                             guiEvent: simpleKeys(event)});\n",
       "    return false;\n",
       "}\n",
       "\n",
       "mpl.figure.prototype.toolbar_button_onclick = function(name) {\n",
       "    if (name == 'download') {\n",
       "        this.handle_save(this, null);\n",
       "    } else {\n",
       "        this.send_message(\"toolbar_button\", {name: name});\n",
       "    }\n",
       "};\n",
       "\n",
       "mpl.figure.prototype.toolbar_button_onmouseover = function(tooltip) {\n",
       "    this.message.textContent = tooltip;\n",
       "};\n",
       "mpl.toolbar_items = [[\"Home\", \"Reset original view\", \"fa fa-home icon-home\", \"home\"], [\"Back\", \"Back to  previous view\", \"fa fa-arrow-left icon-arrow-left\", \"back\"], [\"Forward\", \"Forward to next view\", \"fa fa-arrow-right icon-arrow-right\", \"forward\"], [\"\", \"\", \"\", \"\"], [\"Pan\", \"Pan axes with left mouse, zoom with right\", \"fa fa-arrows icon-move\", \"pan\"], [\"Zoom\", \"Zoom to rectangle\", \"fa fa-square-o icon-check-empty\", \"zoom\"], [\"\", \"\", \"\", \"\"], [\"Download\", \"Download plot\", \"fa fa-floppy-o icon-save\", \"download\"]];\n",
       "\n",
       "mpl.extensions = [\"eps\", \"jpeg\", \"pdf\", \"png\", \"ps\", \"raw\", \"svg\", \"tif\"];\n",
       "\n",
       "mpl.default_extension = \"png\";var comm_websocket_adapter = function(comm) {\n",
       "    // Create a \"websocket\"-like object which calls the given IPython comm\n",
       "    // object with the appropriate methods. Currently this is a non binary\n",
       "    // socket, so there is still some room for performance tuning.\n",
       "    var ws = {};\n",
       "\n",
       "    ws.close = function() {\n",
       "        comm.close()\n",
       "    };\n",
       "    ws.send = function(m) {\n",
       "        //console.log('sending', m);\n",
       "        comm.send(m);\n",
       "    };\n",
       "    // Register the callback with on_msg.\n",
       "    comm.on_msg(function(msg) {\n",
       "        //console.log('receiving', msg['content']['data'], msg);\n",
       "        // Pass the mpl event to the overriden (by mpl) onmessage function.\n",
       "        ws.onmessage(msg['content']['data'])\n",
       "    });\n",
       "    return ws;\n",
       "}\n",
       "\n",
       "mpl.mpl_figure_comm = function(comm, msg) {\n",
       "    // This is the function which gets called when the mpl process\n",
       "    // starts-up an IPython Comm through the \"matplotlib\" channel.\n",
       "\n",
       "    var id = msg.content.data.id;\n",
       "    // Get hold of the div created by the display call when the Comm\n",
       "    // socket was opened in Python.\n",
       "    var element = $(\"#\" + id);\n",
       "    var ws_proxy = comm_websocket_adapter(comm)\n",
       "\n",
       "    function ondownload(figure, format) {\n",
       "        window.open(figure.imageObj.src);\n",
       "    }\n",
       "\n",
       "    var fig = new mpl.figure(id, ws_proxy,\n",
       "                           ondownload,\n",
       "                           element.get(0));\n",
       "\n",
       "    // Call onopen now - mpl needs it, as it is assuming we've passed it a real\n",
       "    // web socket which is closed, not our websocket->open comm proxy.\n",
       "    ws_proxy.onopen();\n",
       "\n",
       "    fig.parent_element = element.get(0);\n",
       "    fig.cell_info = mpl.find_output_cell(\"<div id='\" + id + \"'></div>\");\n",
       "    if (!fig.cell_info) {\n",
       "        console.error(\"Failed to find cell for figure\", id, fig);\n",
       "        return;\n",
       "    }\n",
       "\n",
       "    var output_index = fig.cell_info[2]\n",
       "    var cell = fig.cell_info[0];\n",
       "\n",
       "};\n",
       "\n",
       "mpl.figure.prototype.handle_close = function(fig, msg) {\n",
       "    var width = fig.canvas.width/mpl.ratio\n",
       "    fig.root.unbind('remove')\n",
       "\n",
       "    // Update the output cell to use the data from the current canvas.\n",
       "    fig.push_to_output();\n",
       "    var dataURL = fig.canvas.toDataURL();\n",
       "    // Re-enable the keyboard manager in IPython - without this line, in FF,\n",
       "    // the notebook keyboard shortcuts fail.\n",
       "    IPython.keyboard_manager.enable()\n",
       "    $(fig.parent_element).html('<img src=\"' + dataURL + '\" width=\"' + width + '\">');\n",
       "    fig.close_ws(fig, msg);\n",
       "}\n",
       "\n",
       "mpl.figure.prototype.close_ws = function(fig, msg){\n",
       "    fig.send_message('closing', msg);\n",
       "    // fig.ws.close()\n",
       "}\n",
       "\n",
       "mpl.figure.prototype.push_to_output = function(remove_interactive) {\n",
       "    // Turn the data on the canvas into data in the output cell.\n",
       "    var width = this.canvas.width/mpl.ratio\n",
       "    var dataURL = this.canvas.toDataURL();\n",
       "    this.cell_info[1]['text/html'] = '<img src=\"' + dataURL + '\" width=\"' + width + '\">';\n",
       "}\n",
       "\n",
       "mpl.figure.prototype.updated_canvas_event = function() {\n",
       "    // Tell IPython that the notebook contents must change.\n",
       "    IPython.notebook.set_dirty(true);\n",
       "    this.send_message(\"ack\", {});\n",
       "    var fig = this;\n",
       "    // Wait a second, then push the new image to the DOM so\n",
       "    // that it is saved nicely (might be nice to debounce this).\n",
       "    setTimeout(function () { fig.push_to_output() }, 1000);\n",
       "}\n",
       "\n",
       "mpl.figure.prototype._init_toolbar = function() {\n",
       "    var fig = this;\n",
       "\n",
       "    var nav_element = $('<div/>')\n",
       "    nav_element.attr('style', 'width: 100%');\n",
       "    this.root.append(nav_element);\n",
       "\n",
       "    // Define a callback function for later on.\n",
       "    function toolbar_event(event) {\n",
       "        return fig.toolbar_button_onclick(event['data']);\n",
       "    }\n",
       "    function toolbar_mouse_event(event) {\n",
       "        return fig.toolbar_button_onmouseover(event['data']);\n",
       "    }\n",
       "\n",
       "    for(var toolbar_ind in mpl.toolbar_items){\n",
       "        var name = mpl.toolbar_items[toolbar_ind][0];\n",
       "        var tooltip = mpl.toolbar_items[toolbar_ind][1];\n",
       "        var image = mpl.toolbar_items[toolbar_ind][2];\n",
       "        var method_name = mpl.toolbar_items[toolbar_ind][3];\n",
       "\n",
       "        if (!name) { continue; };\n",
       "\n",
       "        var button = $('<button class=\"btn btn-default\" href=\"#\" title=\"' + name + '\"><i class=\"fa ' + image + ' fa-lg\"></i></button>');\n",
       "        button.click(method_name, toolbar_event);\n",
       "        button.mouseover(tooltip, toolbar_mouse_event);\n",
       "        nav_element.append(button);\n",
       "    }\n",
       "\n",
       "    // Add the status bar.\n",
       "    var status_bar = $('<span class=\"mpl-message\" style=\"text-align:right; float: right;\"/>');\n",
       "    nav_element.append(status_bar);\n",
       "    this.message = status_bar[0];\n",
       "\n",
       "    // Add the close button to the window.\n",
       "    var buttongrp = $('<div class=\"btn-group inline pull-right\"></div>');\n",
       "    var button = $('<button class=\"btn btn-mini btn-primary\" href=\"#\" title=\"Stop Interaction\"><i class=\"fa fa-power-off icon-remove icon-large\"></i></button>');\n",
       "    button.click(function (evt) { fig.handle_close(fig, {}); } );\n",
       "    button.mouseover('Stop Interaction', toolbar_mouse_event);\n",
       "    buttongrp.append(button);\n",
       "    var titlebar = this.root.find($('.ui-dialog-titlebar'));\n",
       "    titlebar.prepend(buttongrp);\n",
       "}\n",
       "\n",
       "mpl.figure.prototype._root_extra_style = function(el){\n",
       "    var fig = this\n",
       "    el.on(\"remove\", function(){\n",
       "\tfig.close_ws(fig, {});\n",
       "    });\n",
       "}\n",
       "\n",
       "mpl.figure.prototype._canvas_extra_style = function(el){\n",
       "    // this is important to make the div 'focusable\n",
       "    el.attr('tabindex', 0)\n",
       "    // reach out to IPython and tell the keyboard manager to turn it's self\n",
       "    // off when our div gets focus\n",
       "\n",
       "    // location in version 3\n",
       "    if (IPython.notebook.keyboard_manager) {\n",
       "        IPython.notebook.keyboard_manager.register_events(el);\n",
       "    }\n",
       "    else {\n",
       "        // location in version 2\n",
       "        IPython.keyboard_manager.register_events(el);\n",
       "    }\n",
       "\n",
       "}\n",
       "\n",
       "mpl.figure.prototype._key_event_extra = function(event, name) {\n",
       "    var manager = IPython.notebook.keyboard_manager;\n",
       "    if (!manager)\n",
       "        manager = IPython.keyboard_manager;\n",
       "\n",
       "    // Check for shift+enter\n",
       "    if (event.shiftKey && event.which == 13) {\n",
       "        this.canvas_div.blur();\n",
       "        // select the cell after this one\n",
       "        var index = IPython.notebook.find_cell_index(this.cell_info[0]);\n",
       "        IPython.notebook.select(index + 1);\n",
       "    }\n",
       "}\n",
       "\n",
       "mpl.figure.prototype.handle_save = function(fig, msg) {\n",
       "    fig.ondownload(fig, null);\n",
       "}\n",
       "\n",
       "\n",
       "mpl.find_output_cell = function(html_output) {\n",
       "    // Return the cell and output element which can be found *uniquely* in the notebook.\n",
       "    // Note - this is a bit hacky, but it is done because the \"notebook_saving.Notebook\"\n",
       "    // IPython event is triggered only after the cells have been serialised, which for\n",
       "    // our purposes (turning an active figure into a static one), is too late.\n",
       "    var cells = IPython.notebook.get_cells();\n",
       "    var ncells = cells.length;\n",
       "    for (var i=0; i<ncells; i++) {\n",
       "        var cell = cells[i];\n",
       "        if (cell.cell_type === 'code'){\n",
       "            for (var j=0; j<cell.output_area.outputs.length; j++) {\n",
       "                var data = cell.output_area.outputs[j];\n",
       "                if (data.data) {\n",
       "                    // IPython >= 3 moved mimebundle to data attribute of output\n",
       "                    data = data.data;\n",
       "                }\n",
       "                if (data['text/html'] == html_output) {\n",
       "                    return [cell, data, j];\n",
       "                }\n",
       "            }\n",
       "        }\n",
       "    }\n",
       "}\n",
       "\n",
       "// Register the function which deals with the matplotlib target/channel.\n",
       "// The kernel may be null if the page has been refreshed.\n",
       "if (IPython.notebook.kernel != null) {\n",
       "    IPython.notebook.kernel.comm_manager.register_target('matplotlib', mpl.mpl_figure_comm);\n",
       "}\n"
      ],
      "text/plain": [
       "<IPython.core.display.Javascript object>"
      ]
     },
     "metadata": {},
     "output_type": "display_data"
    },
    {
     "data": {
      "text/html": [
       "<img src=\"data:image/png;base64,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\" width=\"639.9999861283738\">"
      ],
      "text/plain": [
       "<IPython.core.display.HTML object>"
      ]
     },
     "metadata": {},
     "output_type": "display_data"
    }
   ],
   "source": [
    "plt.clf()\n",
    "ax = plt.gca()\n",
    "ax.plot(wave, flux)\n",
    "plt.show()"
   ]
  },
  {
   "cell_type": "code",
   "execution_count": 20,
   "metadata": {},
   "outputs": [],
   "source": [
    "tmp = counts[::100*100]"
   ]
  },
  {
   "cell_type": "code",
   "execution_count": 21,
   "metadata": {},
   "outputs": [
    {
     "data": {
      "text/plain": [
       "240"
      ]
     },
     "execution_count": 21,
     "metadata": {},
     "output_type": "execute_result"
    }
   ],
   "source": [
    "tmp.size"
   ]
  },
  {
   "cell_type": "code",
   "execution_count": 22,
   "metadata": {},
   "outputs": [
    {
     "data": {
      "text/plain": [
       "array([ 0.        ,  0.        ,  0.        ,  0.        ,  0.001     ,\n",
       "        0.        ,  0.        ,  0.        ,  0.        ,  0.        ,\n",
       "        0.        ,  0.        ,  0.        ,  0.        ,  0.        ,\n",
       "        0.        ,  0.        ,  0.        ,  0.        ,  0.        ,\n",
       "        0.        ,  0.        ,  0.        ,  0.        ,  0.        ,\n",
       "        0.        ,  0.        ,  0.        ,  0.        ,  0.        ,\n",
       "        0.        ,  0.        ,  0.        ,  0.        ,  0.        ,\n",
       "        0.        ,  0.        ,  0.        ,  0.        ,  0.        ,\n",
       "        0.        ,  0.        ,  0.        ,  0.        ,  0.        ,\n",
       "        0.        ,  0.        ,  0.        ,  0.        ,  0.        ,\n",
       "        0.        ,  0.        ,  0.        ,  0.        ,  0.        ,\n",
       "        0.        ,  0.        ,  0.        ,  0.        ,  0.        ,\n",
       "        0.        ,  0.        ,  0.        ,  0.        ,  0.        ,\n",
       "        0.        ,  0.        ,  0.00099993,  0.        ,  0.        ,\n",
       "        0.        ,  0.        ,  0.        ,  0.        ,  0.        ,\n",
       "        0.        ,  0.        ,  0.        ,  0.        ,  0.        ,\n",
       "        0.        ,  0.        ,  0.        ,  0.        ,  0.        ,\n",
       "        0.        ,  0.        ,  0.        ,  0.        ,  0.        ,\n",
       "        0.        ,  0.        ,  0.        ,  0.        ,  0.        ,\n",
       "        0.        ,  0.        ,  0.        ,  0.        ,  0.        ,\n",
       "        0.        ,  0.        ,  0.        ,  0.        ,  0.        ,\n",
       "        0.        ,  0.        ,  0.        ,  0.        ,  0.        ,\n",
       "        0.        ,  0.        ,  0.        ,  0.        ,  0.        ,\n",
       "        0.        ,  0.        ,  0.        ,  0.        ,  0.        ,\n",
       "        0.        ,  0.        ,  0.        ,  0.        ,  0.        ,\n",
       "        0.        ,  0.        ,  0.        ,  0.        ,  0.        ,\n",
       "        0.        ,  0.        ,  0.        ,  0.        ,  0.        ,\n",
       "        0.        ,  0.        ,  0.        ,  0.        ,  0.        ,\n",
       "        0.        ,  0.        ,  0.        ,  0.        ,  0.        ,\n",
       "        0.        ,  0.        ,  0.        ,  0.        ,  0.        ,\n",
       "        0.        ,  0.        ,  0.        ,  0.        ,  0.        ,\n",
       "        0.        ,  0.        ,  0.        ,  0.        ,  0.        ,\n",
       "        0.        ,  0.        ,  0.        ,  0.        ,  0.        ,\n",
       "        0.        ,  0.        ,  0.        ,  0.        ,  0.        ,\n",
       "        0.        ,  0.        ,  0.        ,  0.        ,  0.        ,\n",
       "        0.        ,  0.        ,  0.        ,  0.        ,  0.        ,\n",
       "        0.        ,  0.        ,  0.        ,  0.        ,  0.        ,\n",
       "        0.        ,  0.        ,  0.        ,  0.        ,  0.        ,\n",
       "        0.        ,  0.        ,  0.        ,  0.        ,  0.        ,\n",
       "        0.        ,  0.        ,  0.        ,  0.        ,  0.        ,\n",
       "        0.        ,  0.        ,  0.        ,  0.        ,  0.        ,\n",
       "        0.        ,  0.        ,  0.        ,  0.        ,  0.        ,\n",
       "        0.        ,  0.        ,  0.        ,  0.        ,  0.        ,\n",
       "        0.001     ,  0.        ,  0.        ,  0.        ,  0.        ,\n",
       "        0.        ,  0.        ,  0.001     ,  0.        ,  0.        ,\n",
       "        0.        ,  0.        ,  0.        ,  0.        ,  0.        ,\n",
       "        0.        ,  0.        ,  0.        ,  0.        ,  0.        ,\n",
       "        0.        ,  0.        ,  0.        ,  0.        ,  0.        ])"
      ]
     },
     "execution_count": 22,
     "metadata": {},
     "output_type": "execute_result"
    }
   ],
   "source": [
    "tmp"
   ]
  },
  {
   "cell_type": "code",
   "execution_count": null,
   "metadata": {
    "collapsed": true
   },
   "outputs": [],
   "source": []
  }
 ],
 "metadata": {
  "kernelspec": {
   "display_name": "Python 3",
   "language": "python",
   "name": "python3"
  },
  "language_info": {
   "codemirror_mode": {
    "name": "ipython",
    "version": 3
   },
   "file_extension": ".py",
   "mimetype": "text/x-python",
   "name": "python",
   "nbconvert_exporter": "python",
   "pygments_lexer": "ipython3",
   "version": "3.6.2"
  }
 },
 "nbformat": 4,
 "nbformat_minor": 2
}
